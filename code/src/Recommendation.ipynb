{
 "cells": [
  {
   "cell_type": "code",
   "execution_count": 1,
   "metadata": {},
   "outputs": [],
   "source": [
    "# import torch\n",
    "\n",
    "# if torch.cuda.is_available():\n",
    "#     print(f\"✅ GPU is available: {torch.cuda.get_device_name(0)}\")\n",
    "# else:\n",
    "#     print(\"❌ No GPU detected, running on CPU\")\n"
   ]
  },
  {
   "cell_type": "code",
   "execution_count": 2,
   "metadata": {},
   "outputs": [
    {
     "name": "stdout",
     "output_type": "stream",
     "text": [
      "Detected Sheets: ['Customer Profile (Org)', 'Customer Profile (Individual)', 'Social Media Sentiment', 'Transaction History']\n",
      "\n",
      "Sheet: Customer Profile (Org)\n",
      "                       Industry  \\\n",
      "0           E-commerce & Retail   \n",
      "1         Entertainment & Media   \n",
      "2  Healthcare & Pharmaceuticals   \n",
      "3          Consumer Electronics   \n",
      "4           E-commerce & Retail   \n",
      "\n",
      "                                     Financial Needs  \\\n",
      "0          Crowdfunding, Venture Capital, R&D Grants   \n",
      "1          Crowdfunding, Venture Capital, R&D Grants   \n",
      "2  Supply Chain Financing, Inventory Loans, Retai...   \n",
      "3  Supply Chain Financing, Inventory Loans, Retai...   \n",
      "4       Agriculture Loans, Green Loans, Microfinance   \n",
      "\n",
      "                                         Preferences Revenue (in dollars)  \\\n",
      "0  Online Banking, Mobile App, Digital Transforma...            330M-147M   \n",
      "1  Farm Equipment, Distribution Channels, Global ...            595M-812M   \n",
      "2  Regulatory Compliance, Risk Management, Blockc...            809M-116M   \n",
      "3  Ethical Sourcing, Digital Innovation, Limited ...            855M-330M   \n",
      "4  Online Banking, Mobile App, Digital Transforma...            340M-560M   \n",
      "\n",
      "  No of employees  \n",
      "0       4794-7485  \n",
      "1       1913-5789  \n",
      "2       2506-7594  \n",
      "3       1183-1396  \n",
      "4       4695-6252  \n",
      "\n",
      "Sheet: Customer Profile (Individual)\n",
      "  Customer_id  Age Gender  Location  \\\n",
      "0   CUST2025A   55      M    Denver   \n",
      "1   CUST2025B   31      F    Boston   \n",
      "2   CUST2025C   50      F   Chicago   \n",
      "3   CUST2025D   26      F    Austin   \n",
      "4   CUST2025E   35      F  Portland   \n",
      "\n",
      "                                           Interests  \\\n",
      "0  Finance Investments, Real Estate, Business Net...   \n",
      "1       Fine Dining, Luxury Travel, High-End Gadgets   \n",
      "2              Fitness, Wellness, Outdoor Activities   \n",
      "3      Gaming, Tech Gadgets, Streaming Subscriptions   \n",
      "4             Online Shopping, Food Delivery, Travel   \n",
      "\n",
      "                                         Preferences  \\\n",
      "0                                  Wealth Management   \n",
      "1                BNPL, Crypto, Subscription Services   \n",
      "2            Tax Savings, Insurance, Digital Banking   \n",
      "3  Travel Credit Cards, Digital Banking, Internat...   \n",
      "4                 Home Loan, Retirement Saving, ETFs   \n",
      "\n",
      "   Income per year (in dollars)       Education  \\\n",
      "0                        172227             PhD   \n",
      "1                         71381             PhD   \n",
      "2                         52357  Under-Graduate   \n",
      "3                        146099  Under-Graduate   \n",
      "4                         78730             PhD   \n",
      "\n",
      "                      Occupation Family Member Name  Family Member Age  \\\n",
      "0                   Bank Manager           John Doe                 45   \n",
      "1  Retired with Pension + 401(k)           Emma Doe                 18   \n",
      "2              Software Engineer         Liam Smith                 50   \n",
      "3                 Travel Blogger       Sophia Brown                 75   \n",
      "4                  Fitness Coach        Noah Wilson                 12   \n",
      "\n",
      "  Relationship to Customer Contact Number  Existing Loans  \\\n",
      "0                   Spouse   123-456-7890               4   \n",
      "1                 Daughter   987-654-3210               4   \n",
      "2                  Brother   456-789-1234               3   \n",
      "3                   Mother   789-123-4567               1   \n",
      "4                      Son   321-654-9870               0   \n",
      "\n",
      "   Debt-to-Income Ratio Browsing Behavior  Co-Borrower  \n",
      "0              34445.40        Auto Loans          NaN  \n",
      "1              14276.20        Home Loans          NaN  \n",
      "2              13089.25      Credit Cards          NaN  \n",
      "3              73049.50  Investment Plans          NaN  \n",
      "4              78730.00        Auto Loans          NaN  \n",
      "\n",
      "Sheet: Social Media Sentiment\n",
      "   Customer_id Post_id   Platform  \\\n",
      "0  CUST_IND_54  POST_1   LinkedIn   \n",
      "1  CUST_IND_17  POST_2   LinkedIn   \n",
      "2  CUST_IND_14  POST_3  Instagram   \n",
      "3  CUST_IND_35  POST_4   LinkedIn   \n",
      "4   CUST_IND_3  POST_5   LinkedIn   \n",
      "\n",
      "                                             Content               Timestamp  \\\n",
      "0  Navigating fluctuations raw material prices!! ... 2024-12-13 09:57:46.795   \n",
      "1         Loving the new fashion trends this season! 2024-10-26 09:57:46.795   \n",
      "2  Just finished a 5K run! Need new running shoes... 2024-11-18 09:57:46.795   \n",
      "3  Exciting collaborations coming soon!! Guess wh... 2024-11-17 09:57:46.795   \n",
      "4  Need to start saving more. Thinking of opening... 2025-02-16 09:57:46.795   \n",
      "\n",
      "   Sentiment_Score     Intent  \n",
      "0                0  Complaint  \n",
      "1                1     Praise  \n",
      "2                1    Inquiry  \n",
      "3                1     Praise  \n",
      "4                0  Complaint  \n",
      "\n",
      "Sheet: Transaction History\n",
      "  Customer ID Product ID        Transaction Type  \\\n",
      "0   CUST2025A        201         Luxury Shopping   \n",
      "1  ORG_US_004        202      Retail Space Lease   \n",
      "2   CUST2025S        203   Luxury Travel Booking   \n",
      "3  ORG_US_007        204  Research & Development   \n",
      "4   CUST2025A        205        Stock Investment   \n",
      "\n",
      "                         Category Amount (In Dollars)        Purchase Date  \\\n",
      "0                           Gucci                3000  2025-05-01 00:00:00   \n",
      "1              New Flagship store              500000  2025-10-02 00:00:00   \n",
      "2            London Business Trip                4500  2025-10-02 00:00:00   \n",
      "3  Sustainable Fabric Innovations             2500000            2/29/2025   \n",
      "4                          Equity               25000  2025-02-01 00:00:00   \n",
      "\n",
      "    Payment Mode  \n",
      "0    Credit Card  \n",
      "1  Wire Transfer  \n",
      "2  Amex Platinum  \n",
      "3  Wire Transfer  \n",
      "4     Auto Debit  \n"
     ]
    }
   ],
   "source": [
    "import pandas as pd\n",
    "\n",
    "file_path = \"./data/Updated_Novel_Team_Dataset.xlsx\"\n",
    "xls = pd.ExcelFile(file_path)\n",
    "\n",
    "print(\"Detected Sheets:\", xls.sheet_names)\n",
    "\n",
    "sheets_data = {sheet: pd.read_excel(xls, sheet_name=sheet) for sheet in xls.sheet_names}\n",
    "\n",
    "for sheet_name, df in sheets_data.items():\n",
    "    print(f\"\\nSheet: {sheet_name}\")\n",
    "    print(df.head())\n"
   ]
  },
  {
   "cell_type": "code",
   "execution_count": 3,
   "metadata": {},
   "outputs": [],
   "source": [
    "file_path = \"./data/Updated_Novel_Team_Dataset.xlsx\"\n",
    "xls = pd.ExcelFile(file_path)\n",
    "\n",
    "customer_profile = pd.read_excel(xls, sheet_name=\"Customer Profile (Individual)\")\n",
    "\n",
    "customer_profile[\"Co-Borrower\"] = customer_profile[\"Co-Borrower\"].fillna(\n",
    "    customer_profile[\"Family Member Name\"]\n",
    ")\n",
    "\n",
    "customer_profile.to_csv(\"./data/Customer_Profile_Updated.csv\", index=False)"
   ]
  },
  {
   "cell_type": "code",
   "execution_count": 4,
   "metadata": {},
   "outputs": [
    {
     "name": "stdout",
     "output_type": "stream",
     "text": [
      "['Customer Profile (Org)', 'Customer Profile (Individual)', 'Social Media Sentiment', 'Transaction History']\n",
      "✅ Social Media Sentiment Data Loaded Successfully!\n",
      "   Customer_id Post_id   Platform  \\\n",
      "0  CUST_IND_54  POST_1   LinkedIn   \n",
      "1  CUST_IND_17  POST_2   LinkedIn   \n",
      "2  CUST_IND_14  POST_3  Instagram   \n",
      "3  CUST_IND_35  POST_4   LinkedIn   \n",
      "4   CUST_IND_3  POST_5   LinkedIn   \n",
      "\n",
      "                                             Content               Timestamp  \\\n",
      "0  Navigating fluctuations raw material prices!! ... 2024-12-13 09:57:46.795   \n",
      "1         Loving the new fashion trends this season! 2024-10-26 09:57:46.795   \n",
      "2  Just finished a 5K run! Need new running shoes... 2024-11-18 09:57:46.795   \n",
      "3  Exciting collaborations coming soon!! Guess wh... 2024-11-17 09:57:46.795   \n",
      "4  Need to start saving more. Thinking of opening... 2025-02-16 09:57:46.795   \n",
      "\n",
      "   Sentiment_Score     Intent  \n",
      "0                0  Complaint  \n",
      "1                1     Praise  \n",
      "2                1    Inquiry  \n",
      "3                1     Praise  \n",
      "4                0  Complaint  \n"
     ]
    }
   ],
   "source": [
    "import pandas as pd\n",
    "\n",
    "file_path = \"./data/Updated_Novel_Team_Dataset.xlsx\"\n",
    "xls = pd.ExcelFile(file_path)\n",
    "print(xls.sheet_names)\n",
    "\n",
    "if \"Social Media Sentiment\" in xls.sheet_names:\n",
    "    sentiment_data = pd.read_excel(xls, sheet_name=\"Social Media Sentiment\")\n",
    "    print(\"✅ Social Media Sentiment Data Loaded Successfully!\")\n",
    "else:\n",
    "    print(\"❌ ERROR: 'Social Media Sentiment' sheet not found!\")\n",
    "\n",
    "print(sentiment_data.head())\n"
   ]
  },
  {
   "cell_type": "code",
   "execution_count": 8,
   "metadata": {},
   "outputs": [
    {
     "name": "stdout",
     "output_type": "stream",
     "text": [
      "✅ Sentiment Analysis Completed! Data Saved.\n"
     ]
    }
   ],
   "source": [
    "import torch\n",
    "from transformers import AutoModelForSequenceClassification, AutoTokenizer\n",
    "from scipy.special import softmax\n",
    "\n",
    "MODEL_NAME = \"cardiffnlp/twitter-roberta-base-sentiment\"\n",
    "tokenizer = AutoTokenizer.from_pretrained(MODEL_NAME)\n",
    "model = AutoModelForSequenceClassification.from_pretrained(MODEL_NAME).to(\"cuda\" if torch.cuda.is_available() else \"cpu\")\n",
    "\n",
    "def predict_sentiment(text):\n",
    "    inputs = tokenizer(text, return_tensors=\"pt\", truncation=True, padding=True, max_length=512).to(\"cuda\" if torch.cuda.is_available() else \"cpu\")\n",
    "    with torch.no_grad():\n",
    "        outputs = model(**inputs)\n",
    "    scores = softmax(outputs.logits.cpu().numpy())[0]\n",
    "    return scores[2]  # Positive sentiment score\n",
    "\n",
    "sentiment_data[\"Sentiment Score\"] = sentiment_data[\"Content\"].apply(lambda x: predict_sentiment(str(x)))\n",
    "\n",
    "sentiment_data.to_csv(\"./data/Sentiment_Segmentation.csv\", index=False)\n",
    "\n",
    "print(\"✅ Sentiment Analysis Completed! Data Saved.\")\n"
   ]
  },
  {
   "cell_type": "code",
   "execution_count": 14,
   "metadata": {},
   "outputs": [
    {
     "name": "stdout",
     "output_type": "stream",
     "text": [
      "✅ Sentiment Segmentation Completed! Data saved.\n"
     ]
    }
   ],
   "source": [
    "def categorize_sentiment(score):\n",
    "    if score >= 0.7:\n",
    "        return \"Positive\"\n",
    "    elif score >= 0.4:\n",
    "        return \"Neutral\"\n",
    "    else:\n",
    "        return \"Negative\"\n",
    "\n",
    "sentiment_data[\"Sentiment Category\"] = sentiment_data[\"Sentiment Score\"].apply(categorize_sentiment)\n",
    "\n",
    "sentiment_data.to_csv(\"./data/Sentiment_Categorized.csv\", index=False)\n",
    "\n",
    "print(\"✅ Sentiment Segmentation Completed! Data saved.\")\n"
   ]
  },
  {
   "cell_type": "code",
   "execution_count": 19,
   "metadata": {},
   "outputs": [
    {
     "name": "stdout",
     "output_type": "stream",
     "text": [
      "✅ Bank Services List Created and Saved!\n"
     ]
    }
   ],
   "source": [
    "bank_services = {\n",
    "    \"Loans\": [\"Personal Loan\", \"Home Loan (Mortgage)\", \"Auto Loan\", \"Student Loan\", \"Business Loan\"],\n",
    "    \"Credit Cards\": [\"Basic Credit Card\", \"Premium Credit Card\", \"Secured Credit Card\", \"Business Credit Card\"],\n",
    "    \"Investments\": [\"High-Yield Savings Account\", \"Certificate of Deposit (CD)\", \"Retirement Plan (401k, IRA)\", \"Stock Market Investment\"],\n",
    "    \"Banking Services\": [\"Debt Management Plan\", \"Overdraft Protection\", \"Joint Account\", \"Wealth Management\"]\n",
    "}\n",
    "\n",
    "bank_services_df = pd.DataFrame([(category, service) for category, services in bank_services.items() for service in services],\n",
    "                                columns=[\"Category\", \"Service\"])\n",
    "\n",
    "bank_services_df.to_csv(\"./data/Bank_Services.csv\", index=False)\n",
    "\n",
    "print(\"✅ Bank Services List Created and Saved!\")\n"
   ]
  },
  {
   "cell_type": "markdown",
   "metadata": {},
   "source": [
    "Reccommendation engine"
   ]
  },
  {
   "cell_type": "code",
   "execution_count": 24,
   "metadata": {},
   "outputs": [
    {
     "name": "stdout",
     "output_type": "stream",
     "text": [
      "✅ Transaction History Loaded!\n",
      "✅ Data Merged Successfully!\n",
      "✅ Recommendations Generated and Saved!\n"
     ]
    },
    {
     "name": "stderr",
     "output_type": "stream",
     "text": [
      "/tmp/ipykernel_11467/3839250751.py:26: FutureWarning: A value is trying to be set on a copy of a DataFrame or Series through chained assignment using an inplace method.\n",
      "The behavior will change in pandas 3.0. This inplace method will never work because the intermediate object on which we are setting values always behaves as a copy.\n",
      "\n",
      "For example, when doing 'df[col].method(value, inplace=True)', try using 'df.method({col: value}, inplace=True)' or df[col] = df[col].method(value) instead, to perform the operation inplace on the original object.\n",
      "\n",
      "\n",
      "  merged_data[\"Sentiment Category\"].fillna(\"Neutral\", inplace=True)\n"
     ]
    }
   ],
   "source": [
    "import pandas as pd\n",
    "\n",
    "sentiment_data = pd.read_csv(\"./data/Sentiment_Categorized.csv\")\n",
    "\n",
    "file_path = \"./data/Updated_Novel_Team_Dataset.xlsx\"\n",
    "xls = pd.ExcelFile(file_path)\n",
    "\n",
    "if \"Transaction History\" in xls.sheet_names:\n",
    "    transaction_data = pd.read_excel(xls, sheet_name=\"Transaction History\")\n",
    "    print(\"✅ Transaction History Loaded!\")\n",
    "else:\n",
    "    raise ValueError(\"❌ ERROR: 'Transaction History' sheet not found!\")\n",
    "\n",
    "bank_services = pd.read_csv(\"./data/Bank_Services.csv\")\n",
    "\n",
    "transaction_data.rename(columns={\"Customer ID\": \"Customer_id\"}, inplace=True)\n",
    "\n",
    "merged_data = transaction_data.merge(sentiment_data[['Customer_id', 'Sentiment Category']], on='Customer_id', how='left')\n",
    "\n",
    "merged_data[\"Sentiment Category\"].fillna(\"Neutral\", inplace=True)\n",
    "\n",
    "print(\"✅ Data Merged Successfully!\")\n",
    "\n",
    "def recommend_services(row):\n",
    "    recommendations = []\n",
    "\n",
    "    if row[\"Sentiment Category\"] == \"Positive\" and row[\"Amount (In Dollars)\"] > 5000:\n",
    "        recommendations.append(\"Premium Credit Card\")\n",
    "        recommendations.append(\"Investment Plan\")\n",
    "\n",
    "    elif row[\"Sentiment Category\"] == \"Neutral\" and \"loan\" in str(row.get(\"Search_History\", \"\")).lower():\n",
    "        recommendations.append(\"Personal Loan\")\n",
    "\n",
    "    elif row[\"Sentiment Category\"] == \"Negative\" and row[\"Amount (In Dollars)\"] > 3000:\n",
    "        recommendations.append(\"Low-Interest Credit Card\")\n",
    "        recommendations.append(\"Debt Management Consultation\")\n",
    "\n",
    "    if not recommendations:\n",
    "        recommendations.append(\"Savings Account Upgrade\")\n",
    "\n",
    "    return \", \".join(recommendations)\n",
    "\n",
    "merged_data[\"Recommendations\"] = merged_data.apply(recommend_services, axis=1)\n",
    "\n",
    "merged_data.to_csv(\"./data/Recommendations.csv\", index=False)\n",
    "\n",
    "print(\"✅ Recommendations Generated and Saved!\")\n"
   ]
  },
  {
   "cell_type": "code",
   "execution_count": 25,
   "metadata": {},
   "outputs": [
    {
     "name": "stderr",
     "output_type": "stream",
     "text": [
      "huggingface/tokenizers: The current process just got forked, after parallelism has already been used. Disabling parallelism to avoid deadlocks...\n",
      "To disable this warning, you can either:\n",
      "\t- Avoid using `tokenizers` before the fork if possible\n",
      "\t- Explicitly set the environment variable TOKENIZERS_PARALLELISM=(true | false)\n"
     ]
    },
    {
     "name": "stdout",
     "output_type": "stream",
     "text": [
      "Requirement already satisfied: fastapi in ./myenv/lib/python3.10/site-packages (0.115.11)\n",
      "Requirement already satisfied: uvicorn in ./myenv/lib/python3.10/site-packages (0.34.0)\n",
      "Requirement already satisfied: pandas in ./myenv/lib/python3.10/site-packages (2.2.3)\n",
      "Requirement already satisfied: google-generativeai in ./myenv/lib/python3.10/site-packages (0.8.4)\n",
      "Requirement already satisfied: pydantic!=1.8,!=1.8.1,!=2.0.0,!=2.0.1,!=2.1.0,<3.0.0,>=1.7.4 in ./myenv/lib/python3.10/site-packages (from fastapi) (2.10.6)\n",
      "Requirement already satisfied: starlette<0.47.0,>=0.40.0 in ./myenv/lib/python3.10/site-packages (from fastapi) (0.46.1)\n",
      "Requirement already satisfied: typing-extensions>=4.8.0 in ./myenv/lib/python3.10/site-packages (from fastapi) (4.12.2)\n",
      "Requirement already satisfied: click>=7.0 in ./myenv/lib/python3.10/site-packages (from uvicorn) (8.1.8)\n",
      "Requirement already satisfied: h11>=0.8 in ./myenv/lib/python3.10/site-packages (from uvicorn) (0.14.0)\n",
      "Requirement already satisfied: python-dateutil>=2.8.2 in ./myenv/lib/python3.10/site-packages (from pandas) (2.9.0.post0)\n",
      "Requirement already satisfied: numpy>=1.22.4 in ./myenv/lib/python3.10/site-packages (from pandas) (2.2.4)\n",
      "Requirement already satisfied: pytz>=2020.1 in ./myenv/lib/python3.10/site-packages (from pandas) (2025.1)\n",
      "Requirement already satisfied: tzdata>=2022.7 in ./myenv/lib/python3.10/site-packages (from pandas) (2025.2)\n",
      "Requirement already satisfied: tqdm in ./myenv/lib/python3.10/site-packages (from google-generativeai) (4.67.1)\n",
      "Requirement already satisfied: google-ai-generativelanguage==0.6.15 in ./myenv/lib/python3.10/site-packages (from google-generativeai) (0.6.15)\n",
      "Requirement already satisfied: google-api-python-client in ./myenv/lib/python3.10/site-packages (from google-generativeai) (2.165.0)\n",
      "Requirement already satisfied: protobuf in ./myenv/lib/python3.10/site-packages (from google-generativeai) (5.29.4)\n",
      "Requirement already satisfied: google-api-core in ./myenv/lib/python3.10/site-packages (from google-generativeai) (2.24.2)\n",
      "Requirement already satisfied: google-auth>=2.15.0 in ./myenv/lib/python3.10/site-packages (from google-generativeai) (2.38.0)\n",
      "Requirement already satisfied: proto-plus<2.0.0dev,>=1.22.3 in ./myenv/lib/python3.10/site-packages (from google-ai-generativelanguage==0.6.15->google-generativeai) (1.26.1)\n",
      "Requirement already satisfied: pyasn1-modules>=0.2.1 in ./myenv/lib/python3.10/site-packages (from google-auth>=2.15.0->google-generativeai) (0.4.1)\n",
      "Requirement already satisfied: rsa<5,>=3.1.4 in ./myenv/lib/python3.10/site-packages (from google-auth>=2.15.0->google-generativeai) (4.9)\n",
      "Requirement already satisfied: cachetools<6.0,>=2.0.0 in ./myenv/lib/python3.10/site-packages (from google-auth>=2.15.0->google-generativeai) (5.5.2)\n",
      "Requirement already satisfied: pydantic-core==2.27.2 in ./myenv/lib/python3.10/site-packages (from pydantic!=1.8,!=1.8.1,!=2.0.0,!=2.0.1,!=2.1.0,<3.0.0,>=1.7.4->fastapi) (2.27.2)\n",
      "Requirement already satisfied: annotated-types>=0.6.0 in ./myenv/lib/python3.10/site-packages (from pydantic!=1.8,!=1.8.1,!=2.0.0,!=2.0.1,!=2.1.0,<3.0.0,>=1.7.4->fastapi) (0.7.0)\n",
      "Requirement already satisfied: six>=1.5 in ./myenv/lib/python3.10/site-packages (from python-dateutil>=2.8.2->pandas) (1.17.0)\n",
      "Requirement already satisfied: anyio<5,>=3.6.2 in ./myenv/lib/python3.10/site-packages (from starlette<0.47.0,>=0.40.0->fastapi) (4.9.0)\n",
      "Requirement already satisfied: googleapis-common-protos<2.0.0,>=1.56.2 in ./myenv/lib/python3.10/site-packages (from google-api-core->google-generativeai) (1.69.2)\n",
      "Requirement already satisfied: requests<3.0.0,>=2.18.0 in ./myenv/lib/python3.10/site-packages (from google-api-core->google-generativeai) (2.32.3)\n",
      "Requirement already satisfied: google-auth-httplib2<1.0.0,>=0.2.0 in ./myenv/lib/python3.10/site-packages (from google-api-python-client->google-generativeai) (0.2.0)\n",
      "Requirement already satisfied: uritemplate<5,>=3.0.1 in ./myenv/lib/python3.10/site-packages (from google-api-python-client->google-generativeai) (4.1.1)\n",
      "Requirement already satisfied: httplib2<1.0.0,>=0.19.0 in ./myenv/lib/python3.10/site-packages (from google-api-python-client->google-generativeai) (0.22.0)\n",
      "Requirement already satisfied: sniffio>=1.1 in ./myenv/lib/python3.10/site-packages (from anyio<5,>=3.6.2->starlette<0.47.0,>=0.40.0->fastapi) (1.3.1)\n",
      "Requirement already satisfied: exceptiongroup>=1.0.2 in ./myenv/lib/python3.10/site-packages (from anyio<5,>=3.6.2->starlette<0.47.0,>=0.40.0->fastapi) (1.2.2)\n",
      "Requirement already satisfied: idna>=2.8 in ./myenv/lib/python3.10/site-packages (from anyio<5,>=3.6.2->starlette<0.47.0,>=0.40.0->fastapi) (3.10)\n",
      "Requirement already satisfied: grpcio<2.0dev,>=1.33.2 in ./myenv/lib/python3.10/site-packages (from google-api-core->google-generativeai) (1.71.0)\n",
      "Requirement already satisfied: grpcio-status<2.0.dev0,>=1.33.2 in ./myenv/lib/python3.10/site-packages (from google-api-core->google-generativeai) (1.71.0)\n",
      "Requirement already satisfied: pyparsing!=3.0.0,!=3.0.1,!=3.0.2,!=3.0.3,<4,>=2.4.2 in ./myenv/lib/python3.10/site-packages (from httplib2<1.0.0,>=0.19.0->google-api-python-client->google-generativeai) (3.2.1)\n",
      "Requirement already satisfied: pyasn1<0.7.0,>=0.4.6 in ./myenv/lib/python3.10/site-packages (from pyasn1-modules>=0.2.1->google-auth>=2.15.0->google-generativeai) (0.6.1)\n",
      "Requirement already satisfied: charset-normalizer<4,>=2 in ./myenv/lib/python3.10/site-packages (from requests<3.0.0,>=2.18.0->google-api-core->google-generativeai) (3.4.1)\n",
      "Requirement already satisfied: certifi>=2017.4.17 in ./myenv/lib/python3.10/site-packages (from requests<3.0.0,>=2.18.0->google-api-core->google-generativeai) (2025.1.31)\n",
      "Requirement already satisfied: urllib3<3,>=1.21.1 in ./myenv/lib/python3.10/site-packages (from requests<3.0.0,>=2.18.0->google-api-core->google-generativeai) (2.3.0)\n"
     ]
    }
   ],
   "source": []
  },
  {
   "cell_type": "code",
   "execution_count": null,
   "metadata": {},
   "outputs": [],
   "source": []
  }
 ],
 "metadata": {
  "kernelspec": {
   "display_name": "myenv",
   "language": "python",
   "name": "python3"
  },
  "language_info": {
   "codemirror_mode": {
    "name": "ipython",
    "version": 3
   },
   "file_extension": ".py",
   "mimetype": "text/x-python",
   "name": "python",
   "nbconvert_exporter": "python",
   "pygments_lexer": "ipython3",
   "version": "3.10.12"
  }
 },
 "nbformat": 4,
 "nbformat_minor": 2
}
